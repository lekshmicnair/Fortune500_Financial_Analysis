{
 "cells": [
  {
   "cell_type": "code",
   "execution_count": 1,
   "metadata": {},
   "outputs": [],
   "source": [
    "import pandas as pd\n",
    "import pandas_datareader.data as pdr\n",
    "import datetime as dt\n",
    "import time\n",
    "import json\n",
    "from dateutil.relativedelta import relativedelta\n",
    "import pymongo\n",
    "from pymongo import MongoClient"
   ]
  },
  {
   "cell_type": "code",
   "execution_count": null,
   "metadata": {},
   "outputs": [],
   "source": []
  },
  {
   "cell_type": "code",
   "execution_count": 2,
   "metadata": {},
   "outputs": [],
   "source": [
    "#Get stock info from yahoo finance using datareader\n",
    "start_date = dt.datetime.today() - relativedelta(years=1)\n",
    "end_date = dt.datetime.today()\n",
    "\n",
    "\n",
    "stock_data_1 = pdr.DataReader(\"WMT\", 'yahoo', start_date, end_date)\n",
    "stock_data_2 = pdr.DataReader(\"AMZN\", 'yahoo', start_date, end_date)\n",
    "stock_data_3 = pdr.DataReader(\"XOM\", 'yahoo', start_date, end_date)\n",
    "stock_data_4 = pdr.DataReader(\"AAPL\", 'yahoo', start_date, end_date)\n",
    "stock_data_5 = pdr.DataReader(\"CVS\", 'yahoo', start_date, end_date)\n",
    "stock_data_5\n",
    "\n",
    "time.sleep(120)"
   ]
  },
  {
   "cell_type": "code",
   "execution_count": 3,
   "metadata": {},
   "outputs": [],
   "source": [
    "# Making Connection \n",
    "myclient = MongoClient(\"mongodb://localhost:27017/\")  \n",
    "   \n",
    "# database  \n",
    "db = myclient[\"fortune500\"] \n"
   ]
  },
  {
   "cell_type": "code",
   "execution_count": 4,
   "metadata": {},
   "outputs": [
    {
     "data": {
      "text/plain": [
       "<pymongo.results.InsertOneResult at 0x7f9eeb0c9c88>"
      ]
     },
     "execution_count": 4,
     "metadata": {},
     "output_type": "execute_result"
    }
   ],
   "source": [
    "#Rank1- Insert stock data into Mongo DB\n",
    "\n",
    "# Created or Switched to collection  \n",
    "Collection = db[\"Walmart\"] \n",
    "\n",
    "#Drop last collection\n",
    "Collection.drop()\n",
    "\n",
    "#Insert to Mongo\n",
    "stock_data_1.reset_index(inplace=True)\n",
    "data_dict = stock_data_1.to_dict(\"records\")\n",
    "data_dict\n",
    "Collection.insert_one({\"index\":\"Date\",\"data\":data_dict})"
   ]
  },
  {
   "cell_type": "code",
   "execution_count": 5,
   "metadata": {},
   "outputs": [
    {
     "data": {
      "text/plain": [
       "<pymongo.results.InsertOneResult at 0x7f9ee8524e88>"
      ]
     },
     "execution_count": 5,
     "metadata": {},
     "output_type": "execute_result"
    }
   ],
   "source": [
    "#Rank2- Insert stock data into Mongo DB\n",
    "\n",
    "# Created or Switched to collection  \n",
    "Collection = db[\"Amazon\"] \n",
    "\n",
    "#Drop last collection\n",
    "Collection.drop()\n",
    "\n",
    "#Insert to Mongo\n",
    "stock_data_2.reset_index(inplace=True)\n",
    "data_dict = stock_data_2.to_dict(\"records\")\n",
    "data_dict\n",
    "Collection.insert_one({\"index\":\"Date\",\"data\":data_dict})"
   ]
  },
  {
   "cell_type": "code",
   "execution_count": 6,
   "metadata": {},
   "outputs": [
    {
     "data": {
      "text/plain": [
       "<pymongo.results.InsertOneResult at 0x7f9ee98c5308>"
      ]
     },
     "execution_count": 6,
     "metadata": {},
     "output_type": "execute_result"
    }
   ],
   "source": [
    "#Rank3- Insert stock data into Mongo DB\n",
    "\n",
    "# Created or Switched to collection  \n",
    "Collection = db[\"ExxonMobil\"] \n",
    "\n",
    "#Drop last collection\n",
    "Collection.drop()\n",
    "\n",
    "#Insert to Mongo\n",
    "stock_data_3.reset_index(inplace=True)\n",
    "data_dict = stock_data_3.to_dict(\"records\")\n",
    "data_dict\n",
    "Collection.insert_one({\"index\":\"Date\",\"data\":data_dict})"
   ]
  },
  {
   "cell_type": "code",
   "execution_count": 7,
   "metadata": {},
   "outputs": [
    {
     "data": {
      "text/plain": [
       "<pymongo.results.InsertOneResult at 0x7f9ee98c5708>"
      ]
     },
     "execution_count": 7,
     "metadata": {},
     "output_type": "execute_result"
    }
   ],
   "source": [
    "#Rank4- Insert stock data into Mongo DB\n",
    "\n",
    "# Created or Switched to collection  \n",
    "Collection = db[\"Apple\"] \n",
    "\n",
    "#Drop last collection\n",
    "Collection.drop()\n",
    "\n",
    "#Insert to Mongo\n",
    "stock_data_4.reset_index(inplace=True)\n",
    "data_dict = stock_data_4.to_dict(\"records\")\n",
    "data_dict\n",
    "Collection.insert_one({\"index\":\"Date\",\"data\":data_dict})"
   ]
  },
  {
   "cell_type": "code",
   "execution_count": 8,
   "metadata": {},
   "outputs": [
    {
     "data": {
      "text/plain": [
       "<pymongo.results.InsertOneResult at 0x7f9ee98c5948>"
      ]
     },
     "execution_count": 8,
     "metadata": {},
     "output_type": "execute_result"
    }
   ],
   "source": [
    "#Rank5- Insert stock data into Mongo DB\n",
    "\n",
    "# Created or Switched to collection  \n",
    "Collection = db[\"CVS\"] \n",
    "\n",
    "#Drop last collection\n",
    "Collection.drop()\n",
    "\n",
    "#Insert to Mongo\n",
    "stock_data_5.reset_index(inplace=True)\n",
    "data_dict = stock_data_5.to_dict(\"records\")\n",
    "data_dict\n",
    "Collection.insert_one({\"index\":\"Date\",\"data\":data_dict})"
   ]
  },
  {
   "cell_type": "code",
   "execution_count": null,
   "metadata": {},
   "outputs": [],
   "source": []
  }
 ],
 "metadata": {
  "kernelspec": {
   "display_name": "Python [conda env:PythonData] *",
   "language": "python",
   "name": "conda-env-PythonData-py"
  },
  "language_info": {
   "codemirror_mode": {
    "name": "ipython",
    "version": 3
   },
   "file_extension": ".py",
   "mimetype": "text/x-python",
   "name": "python",
   "nbconvert_exporter": "python",
   "pygments_lexer": "ipython3",
   "version": "3.6.10"
  }
 },
 "nbformat": 4,
 "nbformat_minor": 4
}
